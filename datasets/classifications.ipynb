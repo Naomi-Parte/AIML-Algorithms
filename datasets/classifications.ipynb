{
 "cells": [
  {
   "cell_type": "code",
   "execution_count": 20,
   "metadata": {},
   "outputs": [],
   "source": [
    "import numpy as np\n",
    "import pandas as pd\n",
    "import openml\n",
    "\n",
    "from sklearn.model_selection import train_test_split\n",
    "from sklearn.metrics import accuracy_score\n",
    "\n",
    "from sklearn.neighbors import KNeighborsClassifier\n",
    "from sklearn.naive_bayes import GaussianNB\n",
    "from sklearn.tree import DecisionTreeClassifier\n",
    "from sklearn.linear_model import LogisticRegression\n",
    "from sklearn.ensemble import GradientBoostingClassifier, RandomForestClassifier\n",
    "from sklearn.neural_network import MLPClassifier"
   ]
  },
  {
   "cell_type": "code",
   "execution_count": 55,
   "metadata": {},
   "outputs": [],
   "source": [
    "classifiers = {\n",
    "    'KNeighborsClassifier': (KNeighborsClassifier, {'n_neighbors': [1,2,3,4,5]}),\n",
    "    'GaussianNB': (GaussianNB, {'var_smoothing': [1e-9, 1e-5, 1e-1]}),\n",
    "    # 'LogisticRegression': (LogisticRegression(max_iter=1000), {'C': [0.1, 0.5, 1.0, 2.0, 5.0]}),\n",
    "    # 'DecisionTreeClassifier': (DecisionTreeClassifier, {'max_depth': [1, 3, 5, 8, 10]}),\n",
    "    # 'GradientBoostingClassifier': (GradientBoostingClassifier, {'n_estimators': [1, 3, 5, 8, 10]}),\n",
    "    # 'RandomForestClassifier': (RandomForestClassifier, {'n_estimators': [1, 3, 5, 8, 10]}),\n",
    "    # 'MLPClassifier': (MLPClassifier(max_iter=1000), {'alpha': [1e-5, 1e-3, 0.1, 10]})\n",
    "}"
   ]
  },
  {
   "cell_type": "code",
   "execution_count": 19,
   "metadata": {},
   "outputs": [
    {
     "name": "stdout",
     "output_type": "stream",
     "text": [
      "{'n_neighbors': [1, 2, 3, 4, 5]}\n"
     ]
    }
   ],
   "source": [
    "n_neighbors_list = classifiers['KNeighborsClassifier'][1]\n",
    "\n",
    "print(n_neighbors_list)"
   ]
  },
  {
   "cell_type": "code",
   "execution_count": 24,
   "metadata": {},
   "outputs": [
    {
     "name": "stderr",
     "output_type": "stream",
     "text": [
      "/var/folders/gp/y632yr6n6fx67frq5kjq73d00000gn/T/ipykernel_54849/3213322175.py:2: FutureWarning: Starting from Version 0.15 `download_data`, `download_qualities`, and `download_features_meta_data` will all be ``False`` instead of ``True`` by default to enable lazy loading. To disable this message until version 0.15 explicitly set `download_data`, `download_qualities`, and `download_features_meta_data` to a bool while calling `get_dataset`.\n",
      "  'steel-plates-fault': openml.datasets.get_dataset(1504).get_data()[0],\n",
      "/var/folders/gp/y632yr6n6fx67frq5kjq73d00000gn/T/ipykernel_54849/3213322175.py:3: FutureWarning: Starting from Version 0.15 `download_data`, `download_qualities`, and `download_features_meta_data` will all be ``False`` instead of ``True`` by default to enable lazy loading. To disable this message until version 0.15 explicitly set `download_data`, `download_qualities`, and `download_features_meta_data` to a bool while calling `get_dataset`.\n",
      "  'ionosphere': openml.datasets.get_dataset(59).get_data()[0],\n",
      "/var/folders/gp/y632yr6n6fx67frq5kjq73d00000gn/T/ipykernel_54849/3213322175.py:4: FutureWarning: Starting from Version 0.15 `download_data`, `download_qualities`, and `download_features_meta_data` will all be ``False`` instead of ``True`` by default to enable lazy loading. To disable this message until version 0.15 explicitly set `download_data`, `download_qualities`, and `download_features_meta_data` to a bool while calling `get_dataset`.\n",
      "  'banknote-authentication': openml.datasets.get_dataset(1462).get_data()[0]\n"
     ]
    }
   ],
   "source": [
    "datasets = {\n",
    "    'steel-plates-fault': openml.datasets.get_dataset(1504).get_data()[0],\n",
    "    'ionosphere': openml.datasets.get_dataset(59).get_data()[0],\n",
    "    'banknote-authentication': openml.datasets.get_dataset(1462).get_data()[0]\n",
    "}"
   ]
  },
  {
   "cell_type": "code",
   "execution_count": 62,
   "metadata": {},
   "outputs": [],
   "source": [
    "results = {}\n",
    "\n",
    "for dataset_name, data in datasets.items():\n",
    "    X = data.iloc[:, :-1]  # Select all columns except the last as features\n",
    "    y = data.iloc[:, -1]   # Select the last column as the target\n",
    "\n",
    "    results[dataset_name] = {}\n",
    "    for clf_name, (clf_class, param_grid) in classifiers.items():\n",
    "        results[dataset_name][clf_name] = []\n",
    "        for param, values in param_grid.items():\n",
    "            for value in values:\n",
    "                accuracies = []\n",
    "\n",
    "                for i in range(50):\n",
    "                    X_train, X_test, y_train, y_test = train_test_split(X, y, test_size=0.5, random_state=i)\n",
    "                    clf = clf_class()\n",
    "                    clf.set_params(**{param: value})\n",
    "                    clf.fit(X_train, y_train)\n",
    "                    y_pred = clf.predict(X_test)\n",
    "                    accuracies.append(accuracy_score(y_test, y_pred))\n",
    "                \n",
    "                results[dataset_name][clf_name].append((param, value, accuracies))\n"
   ]
  }
 ],
 "metadata": {
  "kernelspec": {
   "display_name": "base",
   "language": "python",
   "name": "python3"
  },
  "language_info": {
   "codemirror_mode": {
    "name": "ipython",
    "version": 3
   },
   "file_extension": ".py",
   "mimetype": "text/x-python",
   "name": "python",
   "nbconvert_exporter": "python",
   "pygments_lexer": "ipython3",
   "version": "3.12.4"
  }
 },
 "nbformat": 4,
 "nbformat_minor": 2
}
